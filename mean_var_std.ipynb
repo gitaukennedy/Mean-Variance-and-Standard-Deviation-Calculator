{
 "cells": [
  {
   "cell_type": "code",
   "execution_count": 1,
   "id": "1fa36226",
   "metadata": {},
   "outputs": [],
   "source": [
    "import numpy as np\n",
    "import pandas as pd\n"
   ]
  },
  {
   "cell_type": "code",
   "execution_count": 2,
   "id": "8eb859ab",
   "metadata": {},
   "outputs": [],
   "source": [
    "def calculate(lst):\n",
    "    if len(lst) != 9:\n",
    "        raise ValueError(\"List must contain nine numbers.\")\n",
    "\n",
    "    # Convert list to 3x3 Numpy array\n",
    "    matrix = np.array(lst).reshape(3, 3)\n",
    "\n",
    "    # Compute statistics\n",
    "    calculations = {\n",
    "        'mean': [matrix.mean(axis=0).tolist(), matrix.mean(axis=1).tolist(), matrix.mean().tolist()],\n",
    "        'variance': [matrix.var(axis=0).tolist(), matrix.var(axis=1).tolist(), matrix.var().tolist()],\n",
    "        'standard deviation': [matrix.std(axis=0).tolist(), matrix.std(axis=1).tolist(), matrix.std().tolist()],\n",
    "        'max': [matrix.max(axis=0).tolist(), matrix.max(axis=1).tolist(), matrix.max().tolist()],\n",
    "        'min': [matrix.min(axis=0).tolist(), matrix.min(axis=1).tolist(), matrix.min().tolist()],\n",
    "        'sum': [matrix.sum(axis=0).tolist(), matrix.sum(axis=1).tolist(), matrix.sum().tolist()]\n",
    "    }\n",
    "\n",
    "    return calculations\n"
   ]
  },
  {
   "cell_type": "code",
   "execution_count": 3,
   "id": "30eeb118",
   "metadata": {},
   "outputs": [
    {
     "data": {
      "text/plain": [
       "{'mean': [[3.0, 4.0, 5.0], [1.0, 4.0, 7.0], 4.0],\n",
       " 'variance': [[6.0, 6.0, 6.0],\n",
       "  [0.6666666666666666, 0.6666666666666666, 0.6666666666666666],\n",
       "  6.666666666666667],\n",
       " 'standard deviation': [[2.449489742783178,\n",
       "   2.449489742783178,\n",
       "   2.449489742783178],\n",
       "  [0.816496580927726, 0.816496580927726, 0.816496580927726],\n",
       "  2.581988897471611],\n",
       " 'max': [[6, 7, 8], [2, 5, 8], 8],\n",
       " 'min': [[0, 1, 2], [0, 3, 6], 0],\n",
       " 'sum': [[9, 12, 15], [3, 12, 21], 36]}"
      ]
     },
     "execution_count": 3,
     "metadata": {},
     "output_type": "execute_result"
    }
   ],
   "source": [
    "# Example test case\n",
    "test_input = [0,1,2,3,4,5,6,7,8]\n",
    "result = calculate(test_input)\n",
    "result\n"
   ]
  },
  {
   "cell_type": "code",
   "execution_count": 4,
   "id": "9108fe1a",
   "metadata": {},
   "outputs": [
    {
     "data": {
      "text/html": [
       "<div>\n",
       "<style scoped>\n",
       "    .dataframe tbody tr th:only-of-type {\n",
       "        vertical-align: middle;\n",
       "    }\n",
       "\n",
       "    .dataframe tbody tr th {\n",
       "        vertical-align: top;\n",
       "    }\n",
       "\n",
       "    .dataframe thead th {\n",
       "        text-align: right;\n",
       "    }\n",
       "</style>\n",
       "<table border=\"1\" class=\"dataframe\">\n",
       "  <thead>\n",
       "    <tr style=\"text-align: right;\">\n",
       "      <th></th>\n",
       "      <th>mean</th>\n",
       "      <th>variance</th>\n",
       "      <th>standard deviation</th>\n",
       "      <th>max</th>\n",
       "      <th>min</th>\n",
       "      <th>sum</th>\n",
       "    </tr>\n",
       "  </thead>\n",
       "  <tbody>\n",
       "    <tr>\n",
       "      <th>Columns</th>\n",
       "      <td>[3.0, 4.0, 5.0]</td>\n",
       "      <td>[6.0, 6.0, 6.0]</td>\n",
       "      <td>[2.449489742783178, 2.449489742783178, 2.44948...</td>\n",
       "      <td>[6, 7, 8]</td>\n",
       "      <td>[0, 1, 2]</td>\n",
       "      <td>[9, 12, 15]</td>\n",
       "    </tr>\n",
       "    <tr>\n",
       "      <th>Rows</th>\n",
       "      <td>[1.0, 4.0, 7.0]</td>\n",
       "      <td>[0.6666666666666666, 0.6666666666666666, 0.666...</td>\n",
       "      <td>[0.816496580927726, 0.816496580927726, 0.81649...</td>\n",
       "      <td>[2, 5, 8]</td>\n",
       "      <td>[0, 3, 6]</td>\n",
       "      <td>[3, 12, 21]</td>\n",
       "    </tr>\n",
       "    <tr>\n",
       "      <th>Flattened</th>\n",
       "      <td>4.0</td>\n",
       "      <td>6.666667</td>\n",
       "      <td>2.581989</td>\n",
       "      <td>8</td>\n",
       "      <td>0</td>\n",
       "      <td>36</td>\n",
       "    </tr>\n",
       "  </tbody>\n",
       "</table>\n",
       "</div>"
      ],
      "text/plain": [
       "                      mean                                           variance  \\\n",
       "Columns    [3.0, 4.0, 5.0]                                    [6.0, 6.0, 6.0]   \n",
       "Rows       [1.0, 4.0, 7.0]  [0.6666666666666666, 0.6666666666666666, 0.666...   \n",
       "Flattened              4.0                                           6.666667   \n",
       "\n",
       "                                          standard deviation        max  \\\n",
       "Columns    [2.449489742783178, 2.449489742783178, 2.44948...  [6, 7, 8]   \n",
       "Rows       [0.816496580927726, 0.816496580927726, 0.81649...  [2, 5, 8]   \n",
       "Flattened                                           2.581989          8   \n",
       "\n",
       "                 min          sum  \n",
       "Columns    [0, 1, 2]  [9, 12, 15]  \n",
       "Rows       [0, 3, 6]  [3, 12, 21]  \n",
       "Flattened          0           36  "
      ]
     },
     "execution_count": 4,
     "metadata": {},
     "output_type": "execute_result"
    }
   ],
   "source": [
    "pd.DataFrame(result, index=['Columns', 'Rows', 'Flattened'])\n"
   ]
  },
  {
   "cell_type": "code",
   "execution_count": null,
   "id": "f26e22be",
   "metadata": {},
   "outputs": [],
   "source": []
  }
 ],
 "metadata": {
  "kernelspec": {
   "display_name": "Python 3 (ipykernel)",
   "language": "python",
   "name": "python3"
  },
  "language_info": {
   "codemirror_mode": {
    "name": "ipython",
    "version": 3
   },
   "file_extension": ".py",
   "mimetype": "text/x-python",
   "name": "python",
   "nbconvert_exporter": "python",
   "pygments_lexer": "ipython3",
   "version": "3.11.5"
  }
 },
 "nbformat": 4,
 "nbformat_minor": 5
}
